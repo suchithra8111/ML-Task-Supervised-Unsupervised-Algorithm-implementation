{
 "cells": [
  {
   "cell_type": "code",
   "execution_count": 2,
   "id": "f2d7856f-1d31-4667-829d-a4486a892810",
   "metadata": {},
   "outputs": [
    {
     "name": "stdout",
     "output_type": "stream",
     "text": [
      "Requirement already satisfied: statsmodels in c:\\users\\spsuc\\appdata\\local\\programs\\python\\python311\\lib\\site-packages (0.14.1)\n",
      "Requirement already satisfied: numpy<2,>=1.18 in c:\\users\\spsuc\\appdata\\local\\programs\\python\\python311\\lib\\site-packages (from statsmodels) (1.26.2)\n",
      "Requirement already satisfied: scipy!=1.9.2,>=1.4 in c:\\users\\spsuc\\appdata\\local\\programs\\python\\python311\\lib\\site-packages (from statsmodels) (1.12.0)\n",
      "Requirement already satisfied: pandas!=2.1.0,>=1.0 in c:\\users\\spsuc\\appdata\\local\\programs\\python\\python311\\lib\\site-packages (from statsmodels) (2.1.4)\n",
      "Requirement already satisfied: patsy>=0.5.4 in c:\\users\\spsuc\\appdata\\local\\programs\\python\\python311\\lib\\site-packages (from statsmodels) (0.5.6)\n",
      "Requirement already satisfied: packaging>=21.3 in c:\\users\\spsuc\\appdata\\local\\programs\\python\\python311\\lib\\site-packages (from statsmodels) (23.2)\n",
      "Requirement already satisfied: python-dateutil>=2.8.2 in c:\\users\\spsuc\\appdata\\local\\programs\\python\\python311\\lib\\site-packages (from pandas!=2.1.0,>=1.0->statsmodels) (2.8.2)\n",
      "Requirement already satisfied: pytz>=2020.1 in c:\\users\\spsuc\\appdata\\local\\programs\\python\\python311\\lib\\site-packages (from pandas!=2.1.0,>=1.0->statsmodels) (2023.3.post1)\n",
      "Requirement already satisfied: tzdata>=2022.1 in c:\\users\\spsuc\\appdata\\local\\programs\\python\\python311\\lib\\site-packages (from pandas!=2.1.0,>=1.0->statsmodels) (2023.3)\n",
      "Requirement already satisfied: six in c:\\users\\spsuc\\appdata\\local\\programs\\python\\python311\\lib\\site-packages (from patsy>=0.5.4->statsmodels) (1.16.0)\n",
      "Note: you may need to restart the kernel to use updated packages.\n"
     ]
    },
    {
     "name": "stderr",
     "output_type": "stream",
     "text": [
      "\n",
      "[notice] A new release of pip is available: 23.2.1 -> 24.0\n",
      "[notice] To update, run: python.exe -m pip install --upgrade pip\n"
     ]
    }
   ],
   "source": [
    "pip install statsmodels"
   ]
  },
  {
   "cell_type": "code",
   "execution_count": 3,
   "id": "87b99908-70cd-4cce-b81c-cfeea4ab92b8",
   "metadata": {},
   "outputs": [
    {
     "name": "stdout",
     "output_type": "stream",
     "text": [
      "Requirement already satisfied: scipy in c:\\users\\spsuc\\appdata\\local\\programs\\python\\python311\\lib\\site-packages (1.12.0)\n",
      "Requirement already satisfied: numpy<1.29.0,>=1.22.4 in c:\\users\\spsuc\\appdata\\local\\programs\\python\\python311\\lib\\site-packages (from scipy) (1.26.2)\n",
      "Note: you may need to restart the kernel to use updated packages.\n"
     ]
    },
    {
     "name": "stderr",
     "output_type": "stream",
     "text": [
      "\n",
      "[notice] A new release of pip is available: 23.2.1 -> 24.0\n",
      "[notice] To update, run: python.exe -m pip install --upgrade pip\n"
     ]
    }
   ],
   "source": [
    "\n",
    "pip install scipy"
   ]
  },
  {
   "cell_type": "code",
   "execution_count": 4,
   "id": "b9e6a5f2-3b5e-412d-8ecf-28d3f390c70b",
   "metadata": {},
   "outputs": [],
   "source": [
    "import numpy as np"
   ]
  },
  {
   "cell_type": "markdown",
   "id": "7f5478f9-3f04-49cc-80dd-2534441c76fc",
   "metadata": {},
   "source": [
    "# HYPOTHESIS TESTING"
   ]
  },
  {
   "cell_type": "markdown",
   "id": "967d7e06-f4e0-456d-a567-abedc66d604f",
   "metadata": {},
   "source": [
    "## Hypothesis testing is a fundamental statistical method used to make inferences about population parameters based on sample data. It involves formulating two competing hypotheses: the null hypothesis (H0), which typically states that there is no effect or no difference between groups, and the alternative hypothesis (H1), which asserts the presence of an effect or difference. The process generally entails selecting an appropriate statistical test based on the nature of the data and the research question, calculating a test statistic from the sample data, and determining the probability of obtaining such results under the assumption that the null hypothesis is true, known as the p-value. If the p-value is below a predetermined significance level (usually 0.05), the null hypothesis is rejected in favor of the alternative hypothesis, suggesting evidence for the presence of an effect or difference. Otherwise, if the p-value is above the significance level, the null hypothesis is not rejected. Hypothesis testing provides a systematic framework for drawing conclusions from data, aiding researchers in making informed decisions and drawing valid inferences about the population.\r\n"
   ]
  },
  {
   "cell_type": "markdown",
   "id": "3fc17e46-240e-4371-8e96-eeb2e057392c",
   "metadata": {},
   "source": [
    "## TASKS"
   ]
  },
  {
   "cell_type": "markdown",
   "id": "e7ae5fb6-635e-42f9-8295-f50301960a03",
   "metadata": {},
   "source": [
    "## Q1.Suppose a child psychologist claims that the average time working mothers spend talking to their children is at least 11 minutes per day. You conduct a random sample of 1000 working mothers and find they spend an average of 11.5 minutes per day talking with their children. Assume prior research suggests the population standard deviation is 2.3 minutes.Conduct a test with a level of significance of alpha = 0.05"
   ]
  },
  {
   "cell_type": "markdown",
   "id": "83106bce-43c4-4f19-8381-7e6c396b4f5e",
   "metadata": {},
   "source": [
    "## Null Hypothesis"
   ]
  },
  {
   "cell_type": "markdown",
   "id": "a9485d91-30a2-49cf-8df3-646ddbd901d2",
   "metadata": {},
   "source": [
    "### Ho = μ ≤ 11 minutes"
   ]
  },
  {
   "cell_type": "markdown",
   "id": "9f0219ad-c425-44d1-bed3-885bf8b776fb",
   "metadata": {},
   "source": [
    "## Alternative Hypothesis\n",
    "\n"
   ]
  },
  {
   "cell_type": "markdown",
   "id": "2dfd3be8-e1f0-4691-9f7c-2f600d360dbf",
   "metadata": {},
   "source": [
    "## Ha = μ > 11 minutes0.05"
   ]
  },
  {
   "cell_type": "markdown",
   "id": "065c9e3b-660b-4d9e-b00d-e8bfd89a0424",
   "metadata": {},
   "source": [
    "##  x̄ = 11.5 minutes"
   ]
  },
  {
   "cell_type": "markdown",
   "id": "765fc6b1-5709-41fa-b653-d3e9e7027ba0",
   "metadata": {},
   "source": [
    "## n = 1000"
   ]
  },
  {
   "cell_type": "markdown",
   "id": "1a06e579-97bf-4a64-8772-dcd137d51773",
   "metadata": {},
   "source": [
    "## σ = 2.3 minutes"
   ]
  },
  {
   "cell_type": "markdown",
   "id": "1a979835-3873-4d59-8658-992ac28fbd6b",
   "metadata": {},
   "source": [
    "## α = 0.05"
   ]
  },
  {
   "cell_type": "markdown",
   "id": "1fb8f45c-c4ed-4e34-8a39-33c5353da60c",
   "metadata": {},
   "source": [
    "## Statistical Test"
   ]
  },
  {
   "cell_type": "markdown",
   "id": "708b38f1-d611-448f-b247-64aa7667e1fa",
   "metadata": {},
   "source": [
    "## Since we have a sample of 1000, which is greater than 30, and we have a sample mean, standard deviation, and want to compare the sample mean to a population value ,so we acn use Z-test."
   ]
  },
  {
   "cell_type": "markdown",
   "id": "f87740a2-0e4a-439d-bf24-b3f57dc72dda",
   "metadata": {},
   "source": [
    "## Rejection criteria is z_statistics>critical value, fail to accept Ho"
   ]
  },
  {
   "cell_type": "markdown",
   "id": "a69b86d2-34d6-470f-85b3-632ed775d536",
   "metadata": {},
   "source": [
    "## Formula Z=(x̄ - μ)/(σ/√n)"
   ]
  },
  {
   "cell_type": "markdown",
   "id": "d1295106-a7e5-4fbd-9f25-7c8231f4c998",
   "metadata": {},
   "source": [
    "## Where: x̄ = sample mean (11.5 minutes), μ = population mean (11 minutes), σ = population standard deviation (2.3 minutes), n = sample size (1000)."
   ]
  },
  {
   "cell_type": "code",
   "execution_count": 5,
   "id": "47cd4c02-2f2b-41c5-90cd-5692cd5a15f0",
   "metadata": {},
   "outputs": [],
   "source": [
    "import math"
   ]
  },
  {
   "cell_type": "code",
   "execution_count": 6,
   "id": "666f8e4e-25d3-477c-9426-61e749bc9f79",
   "metadata": {},
   "outputs": [
    {
     "data": {
      "text/plain": [
       "6.874516652539955"
      ]
     },
     "execution_count": 6,
     "metadata": {},
     "output_type": "execute_result"
    }
   ],
   "source": [
    "Z = (11.5-11)/(2.3/math.sqrt(1000))\n",
    "Z"
   ]
  },
  {
   "cell_type": "markdown",
   "id": "926dc190-9390-4f6e-9c13-1437bdf6f485",
   "metadata": {},
   "source": [
    "# Determine Critical Value or P-Value:"
   ]
  },
  {
   "cell_type": "markdown",
   "id": "f87c2363-5f34-44a3-be15-c1220e5d634c",
   "metadata": {},
   "source": [
    "## Since we're conducting a one-tailed test (since we're testing if the average time is more than 11 minutes), we will look up the crirical value for a z-score corresponding to an alpha level of 0.05 from z-distribution table."
   ]
  },
  {
   "cell_type": "markdown",
   "id": "f77c918d-1759-4574-b420-c175752a4064",
   "metadata": {},
   "source": [
    "### Since we're conducting a one-tailed test (since we're testing if the average time is more than 11 minutes), we will look up the crirical value for a z-score corresponding to an alpha level of 0.05 from z-distribution table."
   ]
  },
  {
   "cell_type": "markdown",
   "id": "5170777b-da61-420c-ad15-8864746151e8",
   "metadata": {},
   "source": [
    "### Critical value=1.645"
   ]
  },
  {
   "cell_type": "markdown",
   "id": "c54022a9-3178-45e0-97ab-aca83a0c8ecf",
   "metadata": {},
   "source": [
    "## conclusion:"
   ]
  },
  {
   "cell_type": "markdown",
   "id": "f83a1a65-233b-4916-a3d0-5a53773945ae",
   "metadata": {},
   "source": [
    "### Since our calculated z-score (6.88) is much greater than the critical value (1.645), we reject the null hypothesis. We have sufficient evidence to conclude that the average time working mothers spend talking to their children is indeed more than 11 minutes per day .\r\n"
   ]
  },
  {
   "cell_type": "code",
   "execution_count": null,
   "id": "061c9e70-4dc3-4742-8c13-4791890ff03f",
   "metadata": {},
   "outputs": [],
   "source": []
  },
  {
   "cell_type": "markdown",
   "id": "8b3bc0cb-8b56-478c-8043-faa89586e70e",
   "metadata": {},
   "source": [
    "# Q2. A coffee shop claims that their average wait time for customers is less than 5 minutes. To test this claim, a sample of 40 customers is taken, and their wait times are recorded. The sample mean wait time is found to be 4.6 minutes with a standard deviation of 0.8 minutes. Perform a hypothesis test at a significance level of 0.05 and determine whether there is enough evidence to support the coffee shop's claim\r\n"
   ]
  },
  {
   "cell_type": "markdown",
   "id": "a08df92d-bef8-48d4-b446-30a455cfbb91",
   "metadata": {},
   "source": [
    "## Null Hypothesis"
   ]
  },
  {
   "cell_type": "markdown",
   "id": "3efe2d06-b8df-458f-8e5d-f4adde910c2e",
   "metadata": {},
   "source": [
    "## Ho = μ ≥ 5 minutes"
   ]
  },
  {
   "cell_type": "markdown",
   "id": "254d8435-4e71-4a87-bd20-de20e7f51d9e",
   "metadata": {},
   "source": [
    "## Sample mean(x̄) = 4.6 minutes"
   ]
  },
  {
   "cell_type": "markdown",
   "id": "13e63af7-35c3-4ae3-9ca9-9bac4331b56d",
   "metadata": {},
   "source": [
    "## Sample size(n) = 40"
   ]
  },
  {
   "cell_type": "markdown",
   "id": "94c3038e-3c7b-4013-8ea2-269560aed480",
   "metadata": {},
   "source": [
    "## Sample Standard deviation(σ) = 0.8 minutes"
   ]
  },
  {
   "cell_type": "markdown",
   "id": "ea82a510-8889-48e7-9fac-33fb0954ceca",
   "metadata": {},
   "source": [
    "## Population mean(μ) = 5 minutes"
   ]
  },
  {
   "cell_type": "markdown",
   "id": "990ff2a3-b74e-4d07-b6ac-964cd9bff4fe",
   "metadata": {},
   "source": [
    "## Significance level(α) = 0.05(5%)"
   ]
  },
  {
   "cell_type": "markdown",
   "id": "1ad321d7-391a-4ab5-8714-9ddafa8746df",
   "metadata": {},
   "source": [
    "## Degree of freedom(n-1) = 39"
   ]
  },
  {
   "cell_type": "code",
   "execution_count": null,
   "id": "9217fd3d-cf2e-44b4-8356-622a760c37ce",
   "metadata": {},
   "outputs": [],
   "source": []
  },
  {
   "cell_type": "markdown",
   "id": "1f4a3d74-9e44-4f97-844e-62e8348884c4",
   "metadata": {},
   "source": [
    "# Statistical Test:"
   ]
  },
  {
   "cell_type": "markdown",
   "id": "a4108f77-fa26-4074-84d7-48df91f0bc22",
   "metadata": {},
   "source": [
    "## Here the population std is unknown, so we can use t-test for this."
   ]
  },
  {
   "cell_type": "markdown",
   "id": "08f788a2-1737-40ce-9eb2-433a9aabcfb1",
   "metadata": {},
   "source": [
    "## If the sample size is small (typically <30) and the population standard deviation is unknown, the t-test is appropriate. However, for larger sample sizes (usually greater than 30), the t-test can also be used even if the population standard deviation is unknown due to the Central Limit Theorem, which states that the distribution of sample means approaches a normal distribution as the sample size increases."
   ]
  },
  {
   "cell_type": "markdown",
   "id": "3ece71ca-60bf-4d54-b5e7-f0db33837c5b",
   "metadata": {},
   "source": [
    "## t_test_statistic=(x̄ - μ) / (σ / √n)"
   ]
  },
  {
   "cell_type": "code",
   "execution_count": 8,
   "id": "cd9e801d-1da5-4f77-afe7-a53e30caee0a",
   "metadata": {},
   "outputs": [
    {
     "name": "stdout",
     "output_type": "stream",
     "text": [
      "t_statistic: -3.162277660168382\n"
     ]
    }
   ],
   "source": [
    "t_test_statistic=(4.6 - 5) / (0.8 / np.sqrt(40))\n",
    "print('t_statistic:',t_test_statistic)"
   ]
  },
  {
   "cell_type": "markdown",
   "id": "b28fdd19-d4a5-4f6d-b030-91b0713c5247",
   "metadata": {},
   "source": [
    "## The function t.ppf(alpha, df) calculates a critical value from the t-distribution based on the provided significance level (alpha) and degrees of freedom (df)."
   ]
  },
  {
   "cell_type": "markdown",
   "id": "e239d4ec-542b-44ba-82d6-b47ff00bffc7",
   "metadata": {},
   "source": [
    "## The term \"percent point function\" (ppf) means it gives you a value from the distribution such that if you randomly select a value from the distribution, there's a certain probability it will be less than or equal to that value."
   ]
  },
  {
   "cell_type": "markdown",
   "id": "d476c679-7b1f-4648-a5a0-2c6b7900deeb",
   "metadata": {},
   "source": [
    "## In simpler terms, it helps to find a specific value in the t-distribution where a certain percentage of the distribution falls below that value."
   ]
  },
  {
   "cell_type": "code",
   "execution_count": 9,
   "id": "dc601168-b937-496d-a771-4056964cf07f",
   "metadata": {},
   "outputs": [
    {
     "name": "stdout",
     "output_type": "stream",
     "text": [
      "Critical value: -1.6848751194974\n"
     ]
    }
   ],
   "source": [
    "#calculating the critical value with df 39 and alpha 0.05\n",
    "from scipy.stats import t\n",
    "critical_value = t.ppf(0.05, 39)\n",
    "\n",
    "print(\"Critical value:\", critical_value)"
   ]
  },
  {
   "cell_type": "markdown",
   "id": "e058e88e-0c88-4cf9-b8c6-37cf61bdc899",
   "metadata": {},
   "source": [
    "## Conclusion"
   ]
  },
  {
   "cell_type": "markdown",
   "id": "4c0ef5ac-3ab0-4e15-8cf8-a74df6131858",
   "metadata": {},
   "source": [
    "## Since our calculated t-value (-3.16) is less than the critical t-value (-1.685), we fail to accept the null hypothesis.."
   ]
  },
  {
   "cell_type": "markdown",
   "id": "cf2f3c87-55f7-4806-bd50-a36b6f2d4341",
   "metadata": {},
   "source": [
    " ## There is enough evidence to support the claim that the average wait time for customers is less than 5 minutes at a significance level of 0.05."
   ]
  },
  {
   "cell_type": "code",
   "execution_count": null,
   "id": "3107e6ac-9960-4be9-ad4b-135bc2aed471",
   "metadata": {},
   "outputs": [],
   "source": []
  }
 ],
 "metadata": {
  "kernelspec": {
   "display_name": "Python 3 (ipykernel)",
   "language": "python",
   "name": "python3"
  },
  "language_info": {
   "codemirror_mode": {
    "name": "ipython",
    "version": 3
   },
   "file_extension": ".py",
   "mimetype": "text/x-python",
   "name": "python",
   "nbconvert_exporter": "python",
   "pygments_lexer": "ipython3",
   "version": "3.11.5"
  }
 },
 "nbformat": 4,
 "nbformat_minor": 5
}
